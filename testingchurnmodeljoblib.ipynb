{
 "cells": [
  {
   "cell_type": "code",
   "execution_count": null,
   "id": "6adb2ae4",
   "metadata": {},
   "outputs": [],
   "source": []
  },
  {
   "cell_type": "code",
   "execution_count": 6,
   "id": "7cf575f9",
   "metadata": {},
   "outputs": [
    {
     "name": "stdout",
     "output_type": "stream",
     "text": [
      "      CustomerID  Predicted_Churn  Churn_Probability\n",
      "185   2189-WWOEW                1           0.997929\n",
      "132   9412-GHEEC                1           0.995180\n",
      "1807  5868-YWPDW                1           0.995029\n",
      "2715  2446-ZKVAF                0           0.008677\n",
      "3825  4986-MXSFP                0           0.002512\n"
     ]
    }
   ],
   "source": [
    "import pandas as pd\n",
    "import joblib\n",
    "\n",
    "# Reload dataset\n",
    "df = pd.read_excel(\"Telco_customer_churn.xlsx\")\n",
    "\n",
    "# Same preprocessing\n",
    "df[\"Total Charges\"] = pd.to_numeric(df[\"Total Charges\"], errors=\"coerce\")\n",
    "df[\"Total Charges\"] = df[\"Total Charges\"].fillna(df[\"Total Charges\"].median())\n",
    "\n",
    "drop_cols = [\"CustomerID\",\"Count\",\"Lat Long\",\"Latitude\",\"Longitude\",\"Churn Reason\"]\n",
    "df_model = df.drop(columns=[c for c in drop_cols if c in df.columns])\n",
    "\n",
    "X = df_model.drop(columns=[\"Churn Label\"])\n",
    "\n",
    "# Load model\n",
    "model = joblib.load(\"logistic_regression_churn_model.joblib\")\n",
    "\n",
    "# Pick 5 random customers\n",
    "sample = df.sample(5, random_state=42)  # keep CustomerID\n",
    "test_data = sample.drop(columns=[c for c in drop_cols if c in sample.columns and c != \"CustomerID\"])\n",
    "if \"Churn Label\" in test_data.columns:\n",
    "    test_data = test_data.drop(columns=[\"Churn Label\"])\n",
    "\n",
    "# Predictions\n",
    "sample[\"Predicted_Churn\"] = model.predict(test_data)\n",
    "sample[\"Churn_Probability\"] = model.predict_proba(test_data)[:, 1]\n",
    "\n",
    "# Sort by risk (highest probability first)\n",
    "sample_sorted = sample[[\"CustomerID\", \"Predicted_Churn\", \"Churn_Probability\"]].sort_values(\n",
    "    by=\"Churn_Probability\", ascending=False\n",
    ")\n",
    "\n",
    "print(sample_sorted)\n"
   ]
  },
  {
   "cell_type": "code",
   "execution_count": null,
   "id": "efc3d57c",
   "metadata": {},
   "outputs": [],
   "source": [
    "\n"
   ]
  },
  {
   "cell_type": "code",
   "execution_count": 10,
   "id": "4823079a",
   "metadata": {},
   "outputs": [
    {
     "name": "stdout",
     "output_type": "stream",
     "text": [
      "      CustomerID  Predicted_Churn  Churn_Probability\n",
      "233   6513-EECDB                1           0.998622\n",
      "1345  8020-BWHYL                1           0.998142\n",
      "185   2189-WWOEW                1           0.997929\n",
      "1188  4910-AQFFX                1           0.997924\n",
      "1090  9821-POOTN                1           0.997578\n",
      "...          ...              ...                ...\n",
      "2622  7649-SIJJF                0           0.000909\n",
      "6006  5286-YHCVC                0           0.000726\n",
      "5194  5329-KRDTM                0           0.000667\n",
      "6185  5093-FEGLU                0           0.000518\n",
      "6685  4891-NLUBA                0           0.000395\n",
      "\n",
      "[100 rows x 3 columns]\n"
     ]
    }
   ],
   "source": [
    "import pandas as pd\n",
    "import joblib\n",
    "\n",
    "# Reload dataset\n",
    "df = pd.read_excel(\"Telco_customer_churn.xlsx\")\n",
    "\n",
    "# Preprocessing\n",
    "df[\"Total Charges\"] = pd.to_numeric(df[\"Total Charges\"], errors=\"coerce\")\n",
    "df[\"Total Charges\"] = df[\"Total Charges\"].fillna(df[\"Total Charges\"].median())\n",
    "\n",
    "drop_cols = [\"CustomerID\",\"Count\",\"Lat Long\",\"Latitude\",\"Longitude\",\"Churn Reason\"]\n",
    "df_model = df.drop(columns=[c for c in drop_cols if c in df.columns])\n",
    "\n",
    "X = df_model.drop(columns=[\"Churn Label\"])\n",
    "\n",
    "# Load model\n",
    "model = joblib.load(\"logistic_regression_churn_model.joblib\")\n",
    "\n",
    "# Pick 5 random customers (keep ID safe)\n",
    "sample = df.sample(100, random_state=42)\n",
    "test_data = sample.drop(columns=[c for c in drop_cols if c in sample.columns and c != \"CustomerID\"])\n",
    "if \"Churn Label\" in test_data.columns:\n",
    "    test_data = test_data.drop(columns=[\"Churn Label\"])\n",
    "\n",
    "# Predictions\n",
    "sample[\"Predicted_Churn\"] = model.predict(test_data)\n",
    "sample[\"Churn_Probability\"] = model.predict_proba(test_data)[:, 1]\n",
    "\n",
    "# Select and sort (without Name, since it doesn’t exist)\n",
    "sample_sorted = sample[[\"CustomerID\", \"Predicted_Churn\", \"Churn_Probability\"]].sort_values(\n",
    "    by=\"Churn_Probability\", ascending=False\n",
    ")\n",
    "\n",
    "print(sample_sorted)\n"
   ]
  },
  {
   "cell_type": "code",
   "execution_count": null,
   "id": "ca8bdad2",
   "metadata": {},
   "outputs": [],
   "source": []
  },
  {
   "cell_type": "code",
   "execution_count": null,
   "id": "817d0aca",
   "metadata": {},
   "outputs": [],
   "source": []
  },
  {
   "cell_type": "code",
   "execution_count": null,
   "id": "e5439ea5",
   "metadata": {},
   "outputs": [],
   "source": []
  },
  {
   "cell_type": "code",
   "execution_count": null,
   "id": "9141b7eb",
   "metadata": {},
   "outputs": [],
   "source": []
  }
 ],
 "metadata": {
  "kernelspec": {
   "display_name": "Python 3",
   "language": "python",
   "name": "python3"
  },
  "language_info": {
   "codemirror_mode": {
    "name": "ipython",
    "version": 3
   },
   "file_extension": ".py",
   "mimetype": "text/x-python",
   "name": "python",
   "nbconvert_exporter": "python",
   "pygments_lexer": "ipython3",
   "version": "3.12.3"
  }
 },
 "nbformat": 4,
 "nbformat_minor": 5
}
